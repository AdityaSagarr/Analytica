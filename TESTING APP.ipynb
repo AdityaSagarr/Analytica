{
 "cells": [
  {
   "cell_type": "markdown",
   "id": "c9f3564f",
   "metadata": {},
   "source": [
    "## This notebook is just to test the various functions of the project"
   ]
  },
  {
   "cell_type": "code",
   "execution_count": 134,
   "id": "b723e498",
   "metadata": {},
   "outputs": [],
   "source": [
    "import pandas as pd\n",
    "import json\n",
    "from langchain import OpenAI\n",
    "\n",
    "from langchain.prompts import PromptTemplate\n",
    "from langchain_groq import ChatGroq\n",
    "from langchain_experimental.agents import create_pandas_dataframe_agent\n",
    "# Initialize the ChatGroq model (LLM)\n",
    "\n",
    "\n",
    "\n",
    "# Replace with your actual Groq API key\n",
    "llm = ChatGroq(\n",
    "    model=\"llama3-70b-8192\",\n",
    "    temperature=0.1,  # Lower temperature for more deterministic output\n",
    "    max_tokens=None,\n",
    "    timeout=None,\n",
    "    max_retries=2,\n",
    "    groq_api_key='groq_api_key'\n",
    ")\n",
    "\n",
    "# Step 1: Upload your CSV file\n",
    "file_path = r\"E:\\Downloads Folder\\books.csv\"  # Update with your file path\n",
    "df = pd.read_csv(file_path)\n",
    "\n",
    "# Step 2: Create a DataFrame agent\n",
    "agent = create_pandas_dataframe_agent(llm, df, verbose=False, allow_dangerous_code=True)\n",
    "\n",
    "\n",
    "query=\"give me name of the book with heighest height \"\n",
    "prompt=\"\"\"\n",
    "You are an assistant that can analyze data and generate plots based on queries related to a CSV dataset. Given the query, please return a dictionary structured in a specific format for plotting.\n",
    "The output should include one of the following keys based on the query:\n",
    "1. \"line\" - for line plots with data formatted as:\n",
    "   {\"line\": {\"columns\": [\"x1\", \"x2\", ...], \"data\": [value1, value2, ...]}}\n",
    "\n",
    "2. \"scatter\" - for scatter plots with data formatted as:\n",
    "   {\"scatter\": {\"x\": [x1, x2, ...], \"y\": [y1, y2, ...]}}\n",
    "\n",
    "3. \"bar\" - for bar charts with data formatted as:\n",
    "   {\"bar\": {\"columns\": [\"A\", \"B\", \"C\", ...], \"data\": [25, 24, 10, ...]}}\n",
    "\n",
    "4. \"histogram\" - for histograms with data formatted as:\n",
    "   {\"histogram\": {\"data\": [data1, data2, ...], \"bins\": number_of_bins}}\n",
    "\n",
    "5. \"pie\" - for pie charts with data formatted as:\n",
    "   {\"pie\": {\"labels\": [\"label1\", \"label2\", ...], \"data\": [value1, value2, ...]}}\n",
    "\n",
    "6. \"table\" - for displaying data in table format with data structured as:\n",
    "   {\"table\": {\"columns\": [\"column1\", \"column2\", ...], \"data\": [[row1_value1, row1_value2, ...], [row2_value1, row2_value2, ...]]}}\n",
    "   \n",
    "7. \"answer\" - for displaying a response to a question in a structured format:\n",
    "   {\"answer\": \"your answer here\"}\n",
    "\"\"\"\n",
    "\n",
    "final=query+prompt\n",
    "\n",
    "\n",
    "\n",
    "response=agent.invoke(final)\n",
    "\n",
    "\n"
   ]
  },
  {
   "cell_type": "code",
   "execution_count": 135,
   "id": "f43a3c8c",
   "metadata": {
    "scrolled": true
   },
   "outputs": [
    {
     "name": "stdout",
     "output_type": "stream",
     "text": [
      "{'input': 'give me name of the book with heighest height \\nYou are an assistant that can analyze data and generate plots based on queries related to a CSV dataset. Given the query, please return a dictionary structured in a specific format for plotting.\\nThe output should include one of the following keys based on the query:\\n1. \"line\" - for line plots with data formatted as:\\n   {\"line\": {\"columns\": [\"x1\", \"x2\", ...], \"data\": [value1, value2, ...]}}\\n\\n2. \"scatter\" - for scatter plots with data formatted as:\\n   {\"scatter\": {\"x\": [x1, x2, ...], \"y\": [y1, y2, ...]}}\\n\\n3. \"bar\" - for bar charts with data formatted as:\\n   {\"bar\": {\"columns\": [\"A\", \"B\", \"C\", ...], \"data\": [25, 24, 10, ...]}}\\n\\n4. \"histogram\" - for histograms with data formatted as:\\n   {\"histogram\": {\"data\": [data1, data2, ...], \"bins\": number_of_bins}}\\n\\n5. \"pie\" - for pie charts with data formatted as:\\n   {\"pie\": {\"labels\": [\"label1\", \"label2\", ...], \"data\": [value1, value2, ...]}}\\n\\n6. \"table\" - for displaying data in table format with data structured as:\\n   {\"table\": {\"columns\": [\"column1\", \"column2\", ...], \"data\": [[row1_value1, row1_value2, ...], [row2_value1, row2_value2, ...]]}}\\n   \\n7. \"answer\" - for displaying a response to a question in a structured format:\\n   {\"answer\": \"your answer here\"}\\n', 'output': '{\"answer\": \"The book with the highest height is Killing Joke, The with a height of 283\"}'}\n"
     ]
    }
   ],
   "source": [
    "print(response)"
   ]
  },
  {
   "cell_type": "code",
   "execution_count": 136,
   "id": "de90e2f6",
   "metadata": {},
   "outputs": [
    {
     "name": "stdout",
     "output_type": "stream",
     "text": [
      "{\"answer\": \"The book with the highest height is Killing Joke, The with a height of 283\"}\n"
     ]
    },
    {
     "data": {
      "text/plain": [
       "str"
      ]
     },
     "execution_count": 136,
     "metadata": {},
     "output_type": "execute_result"
    }
   ],
   "source": [
    "output_str =response[\"output\"]\n",
    "print(response[\"output\"])\n",
    "type(utput_str )"
   ]
  },
  {
   "cell_type": "code",
   "execution_count": 137,
   "id": "c4eda7f4",
   "metadata": {},
   "outputs": [
    {
     "data": {
      "text/plain": [
       "dict"
      ]
     },
     "execution_count": 137,
     "metadata": {},
     "output_type": "execute_result"
    }
   ],
   "source": [
    "\n",
    "\n",
    "# Replace single quotes with double quotes\n",
    "output_str = output_str.replace(\"'\", '\"')\n",
    "\n",
    "# Convert the string to a Python dictionary\n",
    "data = json.loads(output_str)\n",
    "\n",
    "# Now you have a valid Python dictionary\n",
    "type(data)"
   ]
  },
  {
   "cell_type": "code",
   "execution_count": 139,
   "id": "36729483",
   "metadata": {},
   "outputs": [
    {
     "name": "stdout",
     "output_type": "stream",
     "text": [
      "The book with the highest height is Killing Joke, The with a height of 283\n"
     ]
    }
   ],
   "source": [
    "generalized_plotter(data)"
   ]
  }
 ],
 "metadata": {
  "kernelspec": {
   "display_name": "Python (env2)",
   "language": "python",
   "name": "env2"
  },
  "language_info": {
   "codemirror_mode": {
    "name": "ipython",
    "version": 3
   },
   "file_extension": ".py",
   "mimetype": "text/x-python",
   "name": "python",
   "nbconvert_exporter": "python",
   "pygments_lexer": "ipython3",
   "version": "3.9.5"
  }
 },
 "nbformat": 4,
 "nbformat_minor": 5
}
